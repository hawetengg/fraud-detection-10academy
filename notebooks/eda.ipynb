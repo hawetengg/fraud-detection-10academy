{
 "cells": [
  {
   "cell_type": "code",
   "execution_count": 2,
   "id": "f7e3387a",
   "metadata": {},
   "outputs": [
    {
     "name": "stdout",
     "output_type": "stream",
     "text": [
      "Current working directory changed to: c:\\FraudDetection\\fraud-detection-10academy\n",
      "Ensured 'reports' and 'reports\\figures' directories exist.\n",
      "\n",
      "Data loaded successfully.\n",
      "Fraud Data shape: (151112, 11)\n",
      "Credit Card Data shape: (283726, 31)\n",
      "\n",
      "--- Performing Univariate Analysis ---\n",
      "Saved: purchase_value_dist.png\n",
      "Saved: class_distribution_fraud.png\n",
      "Saved: class_distribution_creditcard.png\n",
      "\n",
      "--- Performing Bivariate Analysis ---\n",
      "Saved: purchase_value_by_class.png\n",
      "\n",
      "Analysis complete. All figures saved.\n"
     ]
    }
   ],
   "source": [
    "import os\n",
    "import pandas as pd\n",
    "import matplotlib.pyplot as plt\n",
    "import seaborn as sns\n",
    "\n",
    "# --- FIX: Set the working directory to the project root ---\n",
    "\n",
    "# Get the current directory of the notebook (which is '.../fraud-detection-10academy/notebooks/')\n",
    "current_notebook_location = os.getcwd()\n",
    "\n",
    "# Go up one level to reach the project root ('.../fraud-detection-10academy/')\n",
    "project_root = os.path.abspath(os.path.join(current_notebook_location, os.pardir))\n",
    "\n",
    "# Change the current working directory for the kernel\n",
    "os.chdir(project_root)\n",
    "\n",
    "print(f\"Current working directory changed to: {os.getcwd()}\")\n",
    "\n",
    "# --- FIX: Ensure output directories exist ---\n",
    "# These paths are now relative to the new working directory (project_root)\n",
    "reports_dir = 'reports'\n",
    "figures_dir = os.path.join(reports_dir, 'figures') # This correctly creates 'reports/figures'\n",
    "\n",
    "os.makedirs(reports_dir, exist_ok=True)    # Create 'reports' if it doesn't exist\n",
    "os.makedirs(figures_dir, exist_ok=True)    # Create 'reports/figures' if it doesn't exist\n",
    "print(f\"Ensured '{reports_dir}' and '{figures_dir}' directories exist.\")\n",
    "\n",
    "# --- END OF FIXES ---\n",
    "\n",
    "\n",
    "# Load cleaned data (these paths are now relative to the correctly set project_root)\n",
    "# Use os.path.join for robust path construction\n",
    "fraud_data = pd.read_csv(os.path.join('data', 'processed', 'Fraud_Data_cleaned.csv'))\n",
    "creditcard_data = pd.read_csv(os.path.join('data', 'processed', 'creditcard_cleaned.csv'))\n",
    "\n",
    "print(\"\\nData loaded successfully.\")\n",
    "print(f\"Fraud Data shape: {fraud_data.shape}\")\n",
    "print(f\"Credit Card Data shape: {creditcard_data.shape}\")\n",
    "\n",
    "\n",
    "# Univariate Analysis\n",
    "print(\"\\n--- Performing Univariate Analysis ---\")\n",
    "\n",
    "plt.figure(figsize=(10, 6))\n",
    "sns.histplot(fraud_data['purchase_value'], bins=50)\n",
    "plt.title('Distribution of Purchase Value (Fraud Data)')\n",
    "# Use os.path.join for saving figures too\n",
    "plt.savefig(os.path.join(figures_dir, 'purchase_value_dist.png'))\n",
    "plt.close()\n",
    "print(\"Saved: purchase_value_dist.png\")\n",
    "\n",
    "\n",
    "plt.figure(figsize=(10, 6))\n",
    "sns.countplot(x='class', data=fraud_data)\n",
    "plt.title('Class Distribution (Fraud Data)')\n",
    "plt.savefig(os.path.join(figures_dir, 'class_distribution_fraud.png'))\n",
    "plt.close()\n",
    "print(\"Saved: class_distribution_fraud.png\")\n",
    "\n",
    "\n",
    "plt.figure(figsize=(10, 6))\n",
    "sns.countplot(x='Class', data=creditcard_data)\n",
    "plt.title('Class Distribution (Credit Card Data)')\n",
    "plt.savefig(os.path.join(figures_dir, 'class_distribution_creditcard.png'))\n",
    "plt.close()\n",
    "print(\"Saved: class_distribution_creditcard.png\")\n",
    "\n",
    "\n",
    "# Bivariate Analysis\n",
    "print(\"\\n--- Performing Bivariate Analysis ---\")\n",
    "\n",
    "plt.figure(figsize=(10, 6))\n",
    "sns.boxplot(x='class', y='purchase_value', data=fraud_data)\n",
    "plt.title('Purchase Value by Class (Fraud Data)')\n",
    "plt.savefig(os.path.join(figures_dir, 'purchase_value_by_class.png'))\n",
    "plt.close()\n",
    "print(\"Saved: purchase_value_by_class.png\")\n",
    "\n",
    "print(\"\\nAnalysis complete. All figures saved.\")"
   ]
  },
  {
   "cell_type": "code",
   "execution_count": 1,
   "id": "a64cd4da",
   "metadata": {},
   "outputs": [
    {
     "name": "stdout",
     "output_type": "stream",
     "text": [
      "Current Working Directory: c:\\FraudDetection\\fraud-detection-10academy\\notebooks\n"
     ]
    }
   ],
   "source": [
    "import os\n",
    "print(f\"Current Working Directory: {os.getcwd()}\")"
   ]
  },
  {
   "cell_type": "code",
   "execution_count": null,
   "id": "88a1015c",
   "metadata": {},
   "outputs": [],
   "source": []
  }
 ],
 "metadata": {
  "kernelspec": {
   "display_name": "venv",
   "language": "python",
   "name": "python3"
  },
  "language_info": {
   "codemirror_mode": {
    "name": "ipython",
    "version": 3
   },
   "file_extension": ".py",
   "mimetype": "text/x-python",
   "name": "python",
   "nbconvert_exporter": "python",
   "pygments_lexer": "ipython3",
   "version": "3.11.9"
  }
 },
 "nbformat": 4,
 "nbformat_minor": 5
}
